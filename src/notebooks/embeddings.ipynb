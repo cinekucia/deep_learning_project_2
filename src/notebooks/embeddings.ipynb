{
 "cells": [
  {
   "cell_type": "code",
   "execution_count": 22,
   "id": "initial_id",
   "metadata": {
    "ExecuteTime": {
     "end_time": "2024-05-02T14:32:26.366621Z",
     "start_time": "2024-05-02T14:32:26.074Z"
    },
    "collapsed": true
   },
   "outputs": [],
   "source": [
    "from transformers import ASTConfig, ASTForAudioClassification\n",
    "\n",
    "config = ASTConfig.from_pretrained(\"MIT/ast-finetuned-audioset-10-10-0.4593\")"
   ]
  },
  {
   "cell_type": "code",
   "execution_count": 11,
   "id": "ee4286e2ff25bbee",
   "metadata": {
    "ExecuteTime": {
     "end_time": "2024-05-02T12:08:21.827357Z",
     "start_time": "2024-05-02T12:08:21.824420Z"
    }
   },
   "outputs": [
    {
     "data": {
      "text/plain": [
       "''"
      ]
     },
     "execution_count": 11,
     "metadata": {},
     "output_type": "execute_result"
    }
   ],
   "source": [
    "config.name_or_path"
   ]
  },
  {
   "cell_type": "code",
   "execution_count": 23,
   "id": "d7b2c91223899178",
   "metadata": {
    "ExecuteTime": {
     "end_time": "2024-05-02T14:32:28.055701Z",
     "start_time": "2024-05-02T14:32:28.040528Z"
    }
   },
   "outputs": [],
   "source": [
    "config.to_json_file(\"config.json\")"
   ]
  },
  {
   "cell_type": "code",
   "execution_count": 30,
   "id": "e69e495be21e5c66",
   "metadata": {
    "ExecuteTime": {
     "end_time": "2024-05-02T15:10:05.895692Z",
     "start_time": "2024-05-02T15:10:05.757060Z"
    }
   },
   "outputs": [],
   "source": [
    "from transformers import ASTConfig, ASTForAudioClassification, ASTFeatureExtractor\n",
    "import sys\n",
    "sys.path.append(\"..\")\n",
    "from settings import NUM_CLASSES\n",
    "config = ASTConfig.from_pretrained(\"MIT/ast-finetuned-audioset-10-10-0.4593\")\n",
    "config.num_labels = NUM_CLASSES\n",
    "config.max_length = 100\n",
    "feature_extractor = ASTFeatureExtractor.from_dict(config.to_dict())"
   ]
  },
  {
   "cell_type": "code",
   "execution_count": 25,
   "id": "8f1be7f24507763a",
   "metadata": {
    "ExecuteTime": {
     "end_time": "2024-05-02T15:09:17.365766Z",
     "start_time": "2024-05-02T15:09:17.283810Z"
    }
   },
   "outputs": [],
   "source": [
    "from dataset.training_dataset import SpeechDataset\n",
    "\n",
    "dataset = SpeechDataset(\"/home/simonexc/Documents/GitHub/MINI_DL_RNN/src/artifacts/speech-waveform:v0\", 10, None, None)"
   ]
  },
  {
   "cell_type": "code",
   "execution_count": 26,
   "id": "c0a0d08e5ade44aa",
   "metadata": {
    "ExecuteTime": {
     "end_time": "2024-05-02T15:09:25.063267Z",
     "start_time": "2024-05-02T15:09:22.412205Z"
    }
   },
   "outputs": [
    {
     "data": {
      "text/plain": [
       "tensor([[ 5.1880e-04,  1.1597e-03,  1.3123e-03,  ...,  7.9346e-04,\n",
       "          1.1902e-03,  1.4954e-03],\n",
       "        [ 1.8646e-02,  2.4384e-02,  2.8320e-02,  ...,  3.0670e-02,\n",
       "          2.8564e-02,  2.3407e-02],\n",
       "        [-5.0659e-03, -6.9885e-03, -8.8196e-03,  ...,  1.0620e-02,\n",
       "          7.9041e-03,  7.0801e-03],\n",
       "        ...,\n",
       "        [ 7.5684e-03,  8.6365e-03,  7.4768e-03,  ...,  1.1780e-02,\n",
       "          1.2634e-02,  1.0040e-02],\n",
       "        [ 1.8311e-04,  2.7466e-04,  2.1362e-04,  ...,  7.9346e-04,\n",
       "          7.0190e-04,  4.5776e-04],\n",
       "        [ 9.1553e-05,  1.2207e-04, -1.2207e-04,  ...,  0.0000e+00,\n",
       "          1.2207e-04, -1.8311e-04]])"
      ]
     },
     "execution_count": 26,
     "metadata": {},
     "output_type": "execute_result"
    }
   ],
   "source": [
    "dataset.setup()\n",
    "x = dataset.train.tensors[0]\n",
    "x"
   ]
  },
  {
   "cell_type": "code",
   "execution_count": 31,
   "id": "de1f39138176afd5",
   "metadata": {
    "ExecuteTime": {
     "end_time": "2024-05-02T15:10:09.528560Z",
     "start_time": "2024-05-02T15:10:09.461139Z"
    }
   },
   "outputs": [],
   "source": [
    "a = feature_extractor(x.numpy()[:1], sampling_rate=16000, return_tensors=\"pt\").input_values"
   ]
  },
  {
   "cell_type": "code",
   "execution_count": 38,
   "id": "b6d1fc5087578064",
   "metadata": {
    "ExecuteTime": {
     "end_time": "2024-05-02T15:47:38.456860Z",
     "start_time": "2024-05-02T15:14:09.161332Z"
    }
   },
   "outputs": [],
   "source": [
    "import numpy as np\n",
    "d = np.empty((0, 100, 128))\n",
    "for xs, _ in dataset.train_dataloader():\n",
    "    xs = feature_extractor(xs.numpy(), sampling_rate=16000, return_tensors=\"pt\").input_values.numpy()\n",
    "    d = np.concatenate((d, xs))"
   ]
  },
  {
   "cell_type": "code",
   "execution_count": 40,
   "id": "30b9e6eb0aed3ed4",
   "metadata": {
    "ExecuteTime": {
     "end_time": "2024-05-02T16:22:10.808699Z",
     "start_time": "2024-05-02T16:22:08.632575Z"
    }
   },
   "outputs": [
    {
     "name": "stdout",
     "output_type": "stream",
     "text": [
      "-0.4722489706457146 0.5442722093877054\n"
     ]
    }
   ],
   "source": [
    "print(d.mean(), d.std())"
   ]
  },
  {
   "cell_type": "code",
   "execution_count": 43,
   "id": "b69d88e1acb33d9d",
   "metadata": {
    "ExecuteTime": {
     "end_time": "2024-05-03T12:42:01.002719Z",
     "start_time": "2024-05-03T12:41:57.307413Z"
    }
   },
   "outputs": [],
   "source": [
    "e = (d-d.mean()) / (2*d.std())"
   ]
  },
  {
   "cell_type": "code",
   "execution_count": 44,
   "id": "767f7c4319eb60c5",
   "metadata": {
    "ExecuteTime": {
     "end_time": "2024-05-03T12:42:03.514602Z",
     "start_time": "2024-05-03T12:42:01.617670Z"
    }
   },
   "outputs": [
    {
     "data": {
      "text/plain": [
       "(5.4055588297990365e-15, 0.49999999999999706)"
      ]
     },
     "execution_count": 44,
     "metadata": {},
     "output_type": "execute_result"
    }
   ],
   "source": [
    "e.mean(), e.std()"
   ]
  },
  {
   "cell_type": "code",
   "execution_count": 32,
   "id": "a9365f3bc5c90d03",
   "metadata": {
    "ExecuteTime": {
     "end_time": "2024-05-02T15:10:09.973226Z",
     "start_time": "2024-05-02T15:10:09.970379Z"
    }
   },
   "outputs": [
    {
     "data": {
      "text/plain": [
       "torch.Size([1, 100, 128])"
      ]
     },
     "execution_count": 32,
     "metadata": {},
     "output_type": "execute_result"
    }
   ],
   "source": [
    "a.shape"
   ]
  },
  {
   "cell_type": "code",
   "execution_count": 27,
   "id": "5123436027a29d1f",
   "metadata": {
    "ExecuteTime": {
     "end_time": "2024-05-02T15:09:50.491020Z",
     "start_time": "2024-05-02T15:09:50.255729Z"
    }
   },
   "outputs": [],
   "source": [
    "from transformers.models.audio_spectrogram_transformer.modeling_audio_spectrogram_transformer import ASTEmbeddings\n",
    "config = ASTConfig.from_pretrained(\"MIT/ast-finetuned-audioset-10-10-0.4593\")\n",
    "config.max_length = 100\n",
    "embedding = ASTEmbeddings(config)"
   ]
  },
  {
   "cell_type": "code",
   "execution_count": 28,
   "id": "ed61d585b4986776",
   "metadata": {
    "ExecuteTime": {
     "end_time": "2024-05-02T15:09:54.123007Z",
     "start_time": "2024-05-02T15:09:54.099361Z"
    }
   },
   "outputs": [],
   "source": [
    "e = embedding(a)"
   ]
  },
  {
   "cell_type": "code",
   "execution_count": 29,
   "id": "fa7b9625d49a0df",
   "metadata": {
    "ExecuteTime": {
     "end_time": "2024-05-02T15:09:55.393859Z",
     "start_time": "2024-05-02T15:09:55.383223Z"
    }
   },
   "outputs": [
    {
     "data": {
      "text/plain": [
       "torch.Size([1, 110, 768])"
      ]
     },
     "execution_count": 29,
     "metadata": {},
     "output_type": "execute_result"
    }
   ],
   "source": [
    "e.shape"
   ]
  },
  {
   "cell_type": "code",
   "execution_count": null,
   "id": "10aff88186af12f1",
   "metadata": {},
   "outputs": [],
   "source": []
  }
 ],
 "metadata": {
  "kernelspec": {
   "display_name": "Python 3",
   "language": "python",
   "name": "python3"
  },
  "language_info": {
   "codemirror_mode": {
    "name": "ipython",
    "version": 2
   },
   "file_extension": ".py",
   "mimetype": "text/x-python",
   "name": "python",
   "nbconvert_exporter": "python",
   "pygments_lexer": "ipython2",
   "version": "2.7.6"
  }
 },
 "nbformat": 4,
 "nbformat_minor": 5
}
