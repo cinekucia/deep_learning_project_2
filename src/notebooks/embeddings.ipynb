{
 "cells": [
  {
   "cell_type": "code",
   "id": "initial_id",
   "metadata": {
    "collapsed": true,
    "ExecuteTime": {
     "end_time": "2024-05-02T14:32:26.366621Z",
     "start_time": "2024-05-02T14:32:26.074Z"
    }
   },
   "source": [
    "from transformers import ASTConfig, ASTForAudioClassification\n",
    "\n",
    "config = ASTConfig.from_pretrained(\"MIT/ast-finetuned-audioset-10-10-0.4593\")"
   ],
   "outputs": [],
   "execution_count": 22
  },
  {
   "metadata": {
    "ExecuteTime": {
     "end_time": "2024-05-02T12:08:21.827357Z",
     "start_time": "2024-05-02T12:08:21.824420Z"
    }
   },
   "cell_type": "code",
   "source": "config.name_or_path",
   "id": "ee4286e2ff25bbee",
   "outputs": [
    {
     "data": {
      "text/plain": [
       "''"
      ]
     },
     "execution_count": 11,
     "metadata": {},
     "output_type": "execute_result"
    }
   ],
   "execution_count": 11
  },
  {
   "metadata": {
    "ExecuteTime": {
     "end_time": "2024-05-02T14:32:28.055701Z",
     "start_time": "2024-05-02T14:32:28.040528Z"
    }
   },
   "cell_type": "code",
   "source": "config.to_json_file(\"config.json\")",
   "id": "d7b2c91223899178",
   "outputs": [],
   "execution_count": 23
  },
  {
   "metadata": {
    "ExecuteTime": {
     "end_time": "2024-05-02T14:32:42.347679Z",
     "start_time": "2024-05-02T14:32:32.236772Z"
    }
   },
   "cell_type": "code",
   "source": [
    "import wandb\n",
    "import sys\n",
    "sys.path.append(\"..\")\n",
    "from settings import PROJECT, ENTITY, JobType, ArtifactType\n",
    "\n",
    "with wandb.init(\n",
    "        project=PROJECT, entity=ENTITY, job_type=JobType.UPLOAD_CONFIG.value\n",
    ") as run:\n",
    "    artifact = wandb.Artifact(\n",
    "        \"ast-feature-extractor-config\",\n",
    "        type=ArtifactType.CONFIG_FILE.value,\n",
    "        description=\"AST feature extractor config file\",\n",
    "    )\n",
    "    artifact.add_file(\"config.json\", \"config.json\")\n",
    "    \n",
    "    run.log_artifact(artifact)\n",
    "    "
   ],
   "id": "2e45b4aed35b4b14",
   "outputs": [
    {
     "name": "stderr",
     "output_type": "stream",
     "text": [
      "\u001B[34m\u001B[1mwandb\u001B[0m: Currently logged in as: \u001B[33msimonexc\u001B[0m (\u001B[33mdl-mini\u001B[0m). Use \u001B[1m`wandb login --relogin`\u001B[0m to force relogin\n"
     ]
    },
    {
     "data": {
      "text/plain": [
       "<IPython.core.display.HTML object>"
      ],
      "text/html": [
       "Tracking run with wandb version 0.16.6"
      ]
     },
     "metadata": {},
     "output_type": "display_data"
    },
    {
     "data": {
      "text/plain": [
       "<IPython.core.display.HTML object>"
      ],
      "text/html": [
       "Run data is saved locally in <code>/home/simonexc/Documents/GitHub/MINI_DL_RNN/src/notebooks/wandb/run-20240502_163234-bq74idfy</code>"
      ]
     },
     "metadata": {},
     "output_type": "display_data"
    },
    {
     "data": {
      "text/plain": [
       "<IPython.core.display.HTML object>"
      ],
      "text/html": [
       "Syncing run <strong><a href='https://wandb.ai/dl-mini/DL_PROJECT_RNN/runs/bq74idfy' target=\"_blank\">hardy-paper-80</a></strong> to <a href='https://wandb.ai/dl-mini/DL_PROJECT_RNN' target=\"_blank\">Weights & Biases</a> (<a href='https://wandb.me/run' target=\"_blank\">docs</a>)<br/>"
      ]
     },
     "metadata": {},
     "output_type": "display_data"
    },
    {
     "data": {
      "text/plain": [
       "<IPython.core.display.HTML object>"
      ],
      "text/html": [
       " View project at <a href='https://wandb.ai/dl-mini/DL_PROJECT_RNN' target=\"_blank\">https://wandb.ai/dl-mini/DL_PROJECT_RNN</a>"
      ]
     },
     "metadata": {},
     "output_type": "display_data"
    },
    {
     "data": {
      "text/plain": [
       "<IPython.core.display.HTML object>"
      ],
      "text/html": [
       " View run at <a href='https://wandb.ai/dl-mini/DL_PROJECT_RNN/runs/bq74idfy' target=\"_blank\">https://wandb.ai/dl-mini/DL_PROJECT_RNN/runs/bq74idfy</a>"
      ]
     },
     "metadata": {},
     "output_type": "display_data"
    },
    {
     "data": {
      "text/plain": [
       "VBox(children=(Label(value='0.005 MB of 0.009 MB uploaded (0.003 MB deduped)\\r'), FloatProgress(value=0.599869…"
      ],
      "application/vnd.jupyter.widget-view+json": {
       "version_major": 2,
       "version_minor": 0,
       "model_id": "9247368ed2a343a7ae5996a78934f4f3"
      }
     },
     "metadata": {},
     "output_type": "display_data"
    },
    {
     "data": {
      "text/plain": [
       "<IPython.core.display.HTML object>"
      ],
      "text/html": [
       "W&B sync reduced upload amount by 34.7%             "
      ]
     },
     "metadata": {},
     "output_type": "display_data"
    },
    {
     "data": {
      "text/plain": [
       "<IPython.core.display.HTML object>"
      ],
      "text/html": [
       " View run <strong style=\"color:#cdcd00\">hardy-paper-80</strong> at: <a href='https://wandb.ai/dl-mini/DL_PROJECT_RNN/runs/bq74idfy' target=\"_blank\">https://wandb.ai/dl-mini/DL_PROJECT_RNN/runs/bq74idfy</a><br/> View project at: <a href='https://wandb.ai/dl-mini/DL_PROJECT_RNN' target=\"_blank\">https://wandb.ai/dl-mini/DL_PROJECT_RNN</a><br/>Synced 4 W&B file(s), 0 media file(s), 2 artifact file(s) and 0 other file(s)"
      ]
     },
     "metadata": {},
     "output_type": "display_data"
    },
    {
     "data": {
      "text/plain": [
       "<IPython.core.display.HTML object>"
      ],
      "text/html": [
       "Find logs at: <code>./wandb/run-20240502_163234-bq74idfy/logs</code>"
      ]
     },
     "metadata": {},
     "output_type": "display_data"
    }
   ],
   "execution_count": 24
  },
  {
   "metadata": {
    "ExecuteTime": {
     "end_time": "2024-05-02T15:10:05.895692Z",
     "start_time": "2024-05-02T15:10:05.757060Z"
    }
   },
   "cell_type": "code",
   "source": [
    "from transformers import ASTConfig, ASTForAudioClassification, ASTFeatureExtractor\n",
    "import sys\n",
    "sys.path.append(\"..\")\n",
    "from settings import NUM_CLASSES\n",
    "config = ASTConfig.from_pretrained(\"MIT/ast-finetuned-audioset-10-10-0.4593\")\n",
    "config.num_labels = NUM_CLASSES\n",
    "config.max_length = 100\n",
    "feature_extractor = ASTFeatureExtractor.from_dict(config.to_dict())"
   ],
   "id": "e69e495be21e5c66",
   "outputs": [],
   "execution_count": 30
  },
  {
   "metadata": {
    "ExecuteTime": {
     "end_time": "2024-05-02T15:09:17.365766Z",
     "start_time": "2024-05-02T15:09:17.283810Z"
    }
   },
   "cell_type": "code",
   "source": [
    "from dataset.training_dataset import SpeechDataset\n",
    "\n",
    "dataset = SpeechDataset(\"/home/simonexc/Documents/GitHub/MINI_DL_RNN/src/artifacts/speech-waveform:v0\", 10, None, None)"
   ],
   "id": "8f1be7f24507763a",
   "outputs": [],
   "execution_count": 25
  },
  {
   "metadata": {
    "ExecuteTime": {
     "end_time": "2024-05-02T15:09:25.063267Z",
     "start_time": "2024-05-02T15:09:22.412205Z"
    }
   },
   "cell_type": "code",
   "source": [
    "dataset.setup()\n",
    "x = dataset.train.tensors[0]\n",
    "x"
   ],
   "id": "c0a0d08e5ade44aa",
   "outputs": [
    {
     "data": {
      "text/plain": [
       "tensor([[ 5.1880e-04,  1.1597e-03,  1.3123e-03,  ...,  7.9346e-04,\n",
       "          1.1902e-03,  1.4954e-03],\n",
       "        [ 1.8646e-02,  2.4384e-02,  2.8320e-02,  ...,  3.0670e-02,\n",
       "          2.8564e-02,  2.3407e-02],\n",
       "        [-5.0659e-03, -6.9885e-03, -8.8196e-03,  ...,  1.0620e-02,\n",
       "          7.9041e-03,  7.0801e-03],\n",
       "        ...,\n",
       "        [ 7.5684e-03,  8.6365e-03,  7.4768e-03,  ...,  1.1780e-02,\n",
       "          1.2634e-02,  1.0040e-02],\n",
       "        [ 1.8311e-04,  2.7466e-04,  2.1362e-04,  ...,  7.9346e-04,\n",
       "          7.0190e-04,  4.5776e-04],\n",
       "        [ 9.1553e-05,  1.2207e-04, -1.2207e-04,  ...,  0.0000e+00,\n",
       "          1.2207e-04, -1.8311e-04]])"
      ]
     },
     "execution_count": 26,
     "metadata": {},
     "output_type": "execute_result"
    }
   ],
   "execution_count": 26
  },
  {
   "metadata": {
    "ExecuteTime": {
     "end_time": "2024-05-02T15:10:09.528560Z",
     "start_time": "2024-05-02T15:10:09.461139Z"
    }
   },
   "cell_type": "code",
   "source": "a = feature_extractor(x.numpy()[:1], sampling_rate=16000, return_tensors=\"pt\").input_values",
   "id": "de1f39138176afd5",
   "outputs": [],
   "execution_count": 31
  },
  {
   "metadata": {
    "ExecuteTime": {
     "end_time": "2024-05-02T15:47:38.456860Z",
     "start_time": "2024-05-02T15:14:09.161332Z"
    }
   },
   "cell_type": "code",
   "source": [
    "import numpy as np\n",
    "d = np.empty((0, 100, 128))\n",
    "for xs, _ in dataset.train_dataloader():\n",
    "    xs = feature_extractor(xs.numpy(), sampling_rate=16000, return_tensors=\"pt\").input_values.numpy()\n",
    "    d = np.concatenate((d, xs))"
   ],
   "id": "b6d1fc5087578064",
   "outputs": [],
   "execution_count": 38
  },
  {
   "metadata": {
    "ExecuteTime": {
     "end_time": "2024-05-02T16:22:10.808699Z",
     "start_time": "2024-05-02T16:22:08.632575Z"
    }
   },
   "cell_type": "code",
   "source": "print(d.mean(), d.std())",
   "id": "30b9e6eb0aed3ed4",
   "outputs": [
    {
     "name": "stdout",
     "output_type": "stream",
     "text": [
      "-0.4722489706457146 0.5442722093877054\n"
     ]
    }
   ],
   "execution_count": 40
  },
  {
   "metadata": {
    "ExecuteTime": {
     "end_time": "2024-05-03T12:42:01.002719Z",
     "start_time": "2024-05-03T12:41:57.307413Z"
    }
   },
   "cell_type": "code",
   "source": "e = (d-d.mean()) / (2*d.std())",
   "id": "b69d88e1acb33d9d",
   "outputs": [],
   "execution_count": 43
  },
  {
   "metadata": {
    "ExecuteTime": {
     "end_time": "2024-05-03T12:42:03.514602Z",
     "start_time": "2024-05-03T12:42:01.617670Z"
    }
   },
   "cell_type": "code",
   "source": "e.mean(), e.std()",
   "id": "767f7c4319eb60c5",
   "outputs": [
    {
     "data": {
      "text/plain": [
       "(5.4055588297990365e-15, 0.49999999999999706)"
      ]
     },
     "execution_count": 44,
     "metadata": {},
     "output_type": "execute_result"
    }
   ],
   "execution_count": 44
  },
  {
   "metadata": {
    "ExecuteTime": {
     "end_time": "2024-05-02T15:10:09.973226Z",
     "start_time": "2024-05-02T15:10:09.970379Z"
    }
   },
   "cell_type": "code",
   "source": "a.shape",
   "id": "a9365f3bc5c90d03",
   "outputs": [
    {
     "data": {
      "text/plain": [
       "torch.Size([1, 100, 128])"
      ]
     },
     "execution_count": 32,
     "metadata": {},
     "output_type": "execute_result"
    }
   ],
   "execution_count": 32
  },
  {
   "metadata": {
    "ExecuteTime": {
     "end_time": "2024-05-02T15:09:50.491020Z",
     "start_time": "2024-05-02T15:09:50.255729Z"
    }
   },
   "cell_type": "code",
   "source": [
    "from transformers.models.audio_spectrogram_transformer.modeling_audio_spectrogram_transformer import ASTEmbeddings\n",
    "config = ASTConfig.from_pretrained(\"MIT/ast-finetuned-audioset-10-10-0.4593\")\n",
    "config.max_length = 100\n",
    "embedding = ASTEmbeddings(config)"
   ],
   "id": "5123436027a29d1f",
   "outputs": [],
   "execution_count": 27
  },
  {
   "metadata": {
    "ExecuteTime": {
     "end_time": "2024-05-02T15:09:54.123007Z",
     "start_time": "2024-05-02T15:09:54.099361Z"
    }
   },
   "cell_type": "code",
   "source": "e = embedding(a)",
   "id": "ed61d585b4986776",
   "outputs": [],
   "execution_count": 28
  },
  {
   "metadata": {
    "ExecuteTime": {
     "end_time": "2024-05-02T15:09:55.393859Z",
     "start_time": "2024-05-02T15:09:55.383223Z"
    }
   },
   "cell_type": "code",
   "source": "e.shape",
   "id": "fa7b9625d49a0df",
   "outputs": [
    {
     "data": {
      "text/plain": [
       "torch.Size([1, 110, 768])"
      ]
     },
     "execution_count": 29,
     "metadata": {},
     "output_type": "execute_result"
    }
   ],
   "execution_count": 29
  },
  {
   "metadata": {},
   "cell_type": "code",
   "outputs": [],
   "execution_count": null,
   "source": "",
   "id": "10aff88186af12f1"
  }
 ],
 "metadata": {
  "kernelspec": {
   "display_name": "Python 3",
   "language": "python",
   "name": "python3"
  },
  "language_info": {
   "codemirror_mode": {
    "name": "ipython",
    "version": 2
   },
   "file_extension": ".py",
   "mimetype": "text/x-python",
   "name": "python",
   "nbconvert_exporter": "python",
   "pygments_lexer": "ipython2",
   "version": "2.7.6"
  }
 },
 "nbformat": 4,
 "nbformat_minor": 5
}
