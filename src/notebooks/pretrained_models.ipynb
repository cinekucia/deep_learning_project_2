{
 "cells": [
  {
   "cell_type": "code",
   "id": "initial_id",
   "metadata": {
    "collapsed": true,
    "ExecuteTime": {
     "end_time": "2024-04-28T16:20:55.857353Z",
     "start_time": "2024-04-28T16:20:55.840083Z"
    }
   },
   "source": [
    "import sys\n",
    "sys.path.append(\"..\")\n",
    "import torch\n",
    "from torch.utils.data import DataLoader\n",
    "from transformers import AutoFeatureExtractor, ASTForAudioClassification\n",
    "from settings import ALL_CLASSES"
   ],
   "outputs": [],
   "execution_count": 10
  },
  {
   "metadata": {
    "ExecuteTime": {
     "end_time": "2024-04-28T16:19:12.125496Z",
     "start_time": "2024-04-28T16:19:11.935358Z"
    }
   },
   "cell_type": "code",
   "source": [
    "dataset, labels = torch.load(\"../artifacts/speech-waveform:v0/validation.pt\")\n",
    "device = torch.device(\"cuda\" if torch.cuda.is_available() else \"cpu\")"
   ],
   "id": "268826bcc102ff06",
   "outputs": [],
   "execution_count": 2
  },
  {
   "metadata": {
    "ExecuteTime": {
     "end_time": "2024-04-28T16:19:12.163607Z",
     "start_time": "2024-04-28T16:19:12.126661Z"
    }
   },
   "cell_type": "code",
   "source": "from transformers import WhisperProcessor, WhisperForConditionalGeneration",
   "id": "9656f3e19a5f81",
   "outputs": [],
   "execution_count": 3
  },
  {
   "metadata": {
    "ExecuteTime": {
     "end_time": "2024-04-28T16:19:17.535974Z",
     "start_time": "2024-04-28T16:19:12.165212Z"
    }
   },
   "cell_type": "code",
   "source": [
    "processor = WhisperProcessor.from_pretrained(\"openai/whisper-tiny.en\")\n",
    "model = WhisperForConditionalGeneration.from_pretrained(\"openai/whisper-medium.en\").to(device)"
   ],
   "id": "3ba45ff32ca2c5cb",
   "outputs": [],
   "execution_count": 4
  },
  {
   "metadata": {
    "ExecuteTime": {
     "end_time": "2024-04-28T16:21:17.508472Z",
     "start_time": "2024-04-28T16:21:17.437334Z"
    }
   },
   "cell_type": "code",
   "source": [
    "input_features = processor(\n",
    "    dataset.numpy()[1005:1010], sampling_rate=16000, return_tensors=\"pt\"\n",
    ").input_features.to(device)"
   ],
   "id": "296e192dc83923b6",
   "outputs": [],
   "execution_count": 12
  },
  {
   "metadata": {
    "ExecuteTime": {
     "end_time": "2024-04-28T16:21:20.101080Z",
     "start_time": "2024-04-28T16:21:18.193423Z"
    }
   },
   "cell_type": "code",
   "source": "predicted_ids = model.generate(input_features)",
   "id": "94d77b4cfbbd4ae6",
   "outputs": [],
   "execution_count": 13
  },
  {
   "metadata": {
    "ExecuteTime": {
     "end_time": "2024-04-28T16:21:22.124778Z",
     "start_time": "2024-04-28T16:21:22.113773Z"
    }
   },
   "cell_type": "code",
   "source": [
    "transcription = processor.batch_decode(predicted_ids, skip_special_tokens=True)\n",
    "transcription"
   ],
   "id": "8fff2192fc212cf2",
   "outputs": [
    {
     "data": {
      "text/plain": [
       "[' left', ' Left', ' Left.', ' Left.', ' Who That?']"
      ]
     },
     "execution_count": 14,
     "metadata": {},
     "output_type": "execute_result"
    }
   ],
   "execution_count": 14
  },
  {
   "metadata": {
    "ExecuteTime": {
     "end_time": "2024-04-28T16:21:34.291069Z",
     "start_time": "2024-04-28T16:21:34.283727Z"
    }
   },
   "cell_type": "code",
   "source": "[ALL_CLASSES[val] for val in labels[1005:1010].squeeze()]",
   "id": "f0cc9315de3c3f8e",
   "outputs": [
    {
     "data": {
      "text/plain": [
       "['left', 'left', 'left', 'left', 'left']"
      ]
     },
     "execution_count": 15,
     "metadata": {},
     "output_type": "execute_result"
    }
   ],
   "execution_count": 15
  },
  {
   "metadata": {},
   "cell_type": "code",
   "outputs": [],
   "execution_count": null,
   "source": "",
   "id": "7c1fa7b270836416"
  }
 ],
 "metadata": {
  "kernelspec": {
   "display_name": "Python 3",
   "language": "python",
   "name": "python3"
  },
  "language_info": {
   "codemirror_mode": {
    "name": "ipython",
    "version": 2
   },
   "file_extension": ".py",
   "mimetype": "text/x-python",
   "name": "python",
   "nbconvert_exporter": "python",
   "pygments_lexer": "ipython2",
   "version": "2.7.6"
  }
 },
 "nbformat": 4,
 "nbformat_minor": 5
}
