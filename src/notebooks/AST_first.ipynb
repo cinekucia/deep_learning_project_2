{
 "cells": [
  {
   "cell_type": "code",
   "id": "initial_id",
   "metadata": {
    "collapsed": true,
    "ExecuteTime": {
     "end_time": "2024-04-29T11:53:24.902358Z",
     "start_time": "2024-04-29T11:53:22.408604Z"
    }
   },
   "source": [
    "import sys\n",
    "sys.path.append(\"..\")\n",
    "import torch\n",
    "from torch.utils.data import DataLoader\n",
    "from transformers import AutoFeatureExtractor, ASTForAudioClassification\n",
    "from settings import ALL_CLASSES"
   ],
   "outputs": [],
   "execution_count": 1
  },
  {
   "cell_type": "code",
   "id": "268826bcc102ff06",
   "metadata": {
    "ExecuteTime": {
     "end_time": "2024-04-29T11:53:25.156066Z",
     "start_time": "2024-04-29T11:53:24.903642Z"
    }
   },
   "source": [
    "dataset, labels = torch.load(\"C:/Users/Filip/Desktop/PW/2 semestr/Deep Learning/pro2/MINI_DL_RNN/src/artifacts/speech-waveform-v0/validation.pt\")\n",
    "device = torch.device(\"cuda\" if torch.cuda.is_available() else \"cpu\")"
   ],
   "outputs": [
    {
     "ename": "FileNotFoundError",
     "evalue": "[Errno 2] No such file or directory: 'C:/Users/Filip/Desktop/PW/2 semestr/Deep Learning/pro2/MINI_DL_RNN/src/artifacts/speech-waveform-v0/validation.pt'",
     "output_type": "error",
     "traceback": [
      "\u001B[0;31m---------------------------------------------------------------------------\u001B[0m",
      "\u001B[0;31mFileNotFoundError\u001B[0m                         Traceback (most recent call last)",
      "Cell \u001B[0;32mIn[2], line 1\u001B[0m\n\u001B[0;32m----> 1\u001B[0m dataset, labels \u001B[38;5;241m=\u001B[39m \u001B[43mtorch\u001B[49m\u001B[38;5;241;43m.\u001B[39;49m\u001B[43mload\u001B[49m\u001B[43m(\u001B[49m\u001B[38;5;124;43m\"\u001B[39;49m\u001B[38;5;124;43mC:/Users/Filip/Desktop/PW/2 semestr/Deep Learning/pro2/MINI_DL_RNN/src/artifacts/speech-waveform-v0/validation.pt\u001B[39;49m\u001B[38;5;124;43m\"\u001B[39;49m\u001B[43m)\u001B[49m\n\u001B[1;32m      2\u001B[0m device \u001B[38;5;241m=\u001B[39m torch\u001B[38;5;241m.\u001B[39mdevice(\u001B[38;5;124m\"\u001B[39m\u001B[38;5;124mcuda\u001B[39m\u001B[38;5;124m\"\u001B[39m \u001B[38;5;28;01mif\u001B[39;00m torch\u001B[38;5;241m.\u001B[39mcuda\u001B[38;5;241m.\u001B[39mis_available() \u001B[38;5;28;01melse\u001B[39;00m \u001B[38;5;124m\"\u001B[39m\u001B[38;5;124mcpu\u001B[39m\u001B[38;5;124m\"\u001B[39m)\n",
      "File \u001B[0;32m~/Documents/GitHub/MINI_DL_RNN/.venv/lib/python3.11/site-packages/torch/serialization.py:997\u001B[0m, in \u001B[0;36mload\u001B[0;34m(f, map_location, pickle_module, weights_only, mmap, **pickle_load_args)\u001B[0m\n\u001B[1;32m    994\u001B[0m \u001B[38;5;28;01mif\u001B[39;00m \u001B[38;5;124m'\u001B[39m\u001B[38;5;124mencoding\u001B[39m\u001B[38;5;124m'\u001B[39m \u001B[38;5;129;01mnot\u001B[39;00m \u001B[38;5;129;01min\u001B[39;00m pickle_load_args\u001B[38;5;241m.\u001B[39mkeys():\n\u001B[1;32m    995\u001B[0m     pickle_load_args[\u001B[38;5;124m'\u001B[39m\u001B[38;5;124mencoding\u001B[39m\u001B[38;5;124m'\u001B[39m] \u001B[38;5;241m=\u001B[39m \u001B[38;5;124m'\u001B[39m\u001B[38;5;124mutf-8\u001B[39m\u001B[38;5;124m'\u001B[39m\n\u001B[0;32m--> 997\u001B[0m \u001B[38;5;28;01mwith\u001B[39;00m \u001B[43m_open_file_like\u001B[49m\u001B[43m(\u001B[49m\u001B[43mf\u001B[49m\u001B[43m,\u001B[49m\u001B[43m \u001B[49m\u001B[38;5;124;43m'\u001B[39;49m\u001B[38;5;124;43mrb\u001B[39;49m\u001B[38;5;124;43m'\u001B[39;49m\u001B[43m)\u001B[49m \u001B[38;5;28;01mas\u001B[39;00m opened_file:\n\u001B[1;32m    998\u001B[0m     \u001B[38;5;28;01mif\u001B[39;00m _is_zipfile(opened_file):\n\u001B[1;32m    999\u001B[0m         \u001B[38;5;66;03m# The zipfile reader is going to advance the current file position.\u001B[39;00m\n\u001B[1;32m   1000\u001B[0m         \u001B[38;5;66;03m# If we want to actually tail call to torch.jit.load, we need to\u001B[39;00m\n\u001B[1;32m   1001\u001B[0m         \u001B[38;5;66;03m# reset back to the original position.\u001B[39;00m\n\u001B[1;32m   1002\u001B[0m         orig_position \u001B[38;5;241m=\u001B[39m opened_file\u001B[38;5;241m.\u001B[39mtell()\n",
      "File \u001B[0;32m~/Documents/GitHub/MINI_DL_RNN/.venv/lib/python3.11/site-packages/torch/serialization.py:444\u001B[0m, in \u001B[0;36m_open_file_like\u001B[0;34m(name_or_buffer, mode)\u001B[0m\n\u001B[1;32m    442\u001B[0m \u001B[38;5;28;01mdef\u001B[39;00m \u001B[38;5;21m_open_file_like\u001B[39m(name_or_buffer, mode):\n\u001B[1;32m    443\u001B[0m     \u001B[38;5;28;01mif\u001B[39;00m _is_path(name_or_buffer):\n\u001B[0;32m--> 444\u001B[0m         \u001B[38;5;28;01mreturn\u001B[39;00m \u001B[43m_open_file\u001B[49m\u001B[43m(\u001B[49m\u001B[43mname_or_buffer\u001B[49m\u001B[43m,\u001B[49m\u001B[43m \u001B[49m\u001B[43mmode\u001B[49m\u001B[43m)\u001B[49m\n\u001B[1;32m    445\u001B[0m     \u001B[38;5;28;01melse\u001B[39;00m:\n\u001B[1;32m    446\u001B[0m         \u001B[38;5;28;01mif\u001B[39;00m \u001B[38;5;124m'\u001B[39m\u001B[38;5;124mw\u001B[39m\u001B[38;5;124m'\u001B[39m \u001B[38;5;129;01min\u001B[39;00m mode:\n",
      "File \u001B[0;32m~/Documents/GitHub/MINI_DL_RNN/.venv/lib/python3.11/site-packages/torch/serialization.py:425\u001B[0m, in \u001B[0;36m_open_file.__init__\u001B[0;34m(self, name, mode)\u001B[0m\n\u001B[1;32m    424\u001B[0m \u001B[38;5;28;01mdef\u001B[39;00m \u001B[38;5;21m__init__\u001B[39m(\u001B[38;5;28mself\u001B[39m, name, mode):\n\u001B[0;32m--> 425\u001B[0m     \u001B[38;5;28msuper\u001B[39m()\u001B[38;5;241m.\u001B[39m\u001B[38;5;21m__init__\u001B[39m(\u001B[38;5;28;43mopen\u001B[39;49m\u001B[43m(\u001B[49m\u001B[43mname\u001B[49m\u001B[43m,\u001B[49m\u001B[43m \u001B[49m\u001B[43mmode\u001B[49m\u001B[43m)\u001B[49m)\n",
      "\u001B[0;31mFileNotFoundError\u001B[0m: [Errno 2] No such file or directory: 'C:/Users/Filip/Desktop/PW/2 semestr/Deep Learning/pro2/MINI_DL_RNN/src/artifacts/speech-waveform-v0/validation.pt'"
     ]
    }
   ],
   "execution_count": 2
  },
  {
   "cell_type": "code",
   "id": "5eec7734",
   "metadata": {},
   "source": [
    "dataset.shape"
   ],
   "outputs": [],
   "execution_count": null
  },
  {
   "cell_type": "code",
   "id": "9656f3e19a5f81",
   "metadata": {},
   "source": [
    "from transformers import WhisperProcessor, WhisperForConditionalGeneration"
   ],
   "outputs": [],
   "execution_count": null
  },
  {
   "cell_type": "code",
   "id": "57430f89",
   "metadata": {
    "ExecuteTime": {
     "end_time": "2024-04-29T11:53:33.993852Z",
     "start_time": "2024-04-29T11:53:31.357983Z"
    }
   },
   "source": [
    "from transformers import ASTConfig, ASTForAudioClassification\n",
    "\n",
    "# Load the configuration of the AST model\n",
    "config = ASTConfig.from_pretrained(\"MIT/ast-finetuned-audioset-10-10-0.4593\")\n",
    "\n",
    "# Modify the configuration to adjust the number of labels\n",
    "config.num_labels = 12  # Set this to the number of your classes\n",
    "\n",
    "# Now load the model with the updated configuration\n",
    "model = ASTForAudioClassification(config)\n"
   ],
   "outputs": [],
   "execution_count": 3
  },
  {
   "metadata": {
    "ExecuteTime": {
     "end_time": "2024-04-29T11:53:36.679346Z",
     "start_time": "2024-04-29T11:53:36.669591Z"
    }
   },
   "cell_type": "code",
   "source": "model",
   "id": "7d2f3f9692fffadd",
   "outputs": [
    {
     "data": {
      "text/plain": [
       "ASTForAudioClassification(\n",
       "  (audio_spectrogram_transformer): ASTModel(\n",
       "    (embeddings): ASTEmbeddings(\n",
       "      (patch_embeddings): ASTPatchEmbeddings(\n",
       "        (projection): Conv2d(1, 768, kernel_size=(16, 16), stride=(10, 10))\n",
       "      )\n",
       "      (dropout): Dropout(p=0.0, inplace=False)\n",
       "    )\n",
       "    (encoder): ASTEncoder(\n",
       "      (layer): ModuleList(\n",
       "        (0-11): 12 x ASTLayer(\n",
       "          (attention): ASTAttention(\n",
       "            (attention): ASTSelfAttention(\n",
       "              (query): Linear(in_features=768, out_features=768, bias=True)\n",
       "              (key): Linear(in_features=768, out_features=768, bias=True)\n",
       "              (value): Linear(in_features=768, out_features=768, bias=True)\n",
       "              (dropout): Dropout(p=0.0, inplace=False)\n",
       "            )\n",
       "            (output): ASTSelfOutput(\n",
       "              (dense): Linear(in_features=768, out_features=768, bias=True)\n",
       "              (dropout): Dropout(p=0.0, inplace=False)\n",
       "            )\n",
       "          )\n",
       "          (intermediate): ASTIntermediate(\n",
       "            (dense): Linear(in_features=768, out_features=3072, bias=True)\n",
       "            (intermediate_act_fn): GELUActivation()\n",
       "          )\n",
       "          (output): ASTOutput(\n",
       "            (dense): Linear(in_features=3072, out_features=768, bias=True)\n",
       "            (dropout): Dropout(p=0.0, inplace=False)\n",
       "          )\n",
       "          (layernorm_before): LayerNorm((768,), eps=1e-12, elementwise_affine=True)\n",
       "          (layernorm_after): LayerNorm((768,), eps=1e-12, elementwise_affine=True)\n",
       "        )\n",
       "      )\n",
       "    )\n",
       "    (layernorm): LayerNorm((768,), eps=1e-12, elementwise_affine=True)\n",
       "  )\n",
       "  (classifier): ASTMLPHead(\n",
       "    (layernorm): LayerNorm((768,), eps=1e-12, elementwise_affine=True)\n",
       "    (dense): Linear(in_features=768, out_features=12, bias=True)\n",
       "  )\n",
       ")"
      ]
     },
     "execution_count": 4,
     "metadata": {},
     "output_type": "execute_result"
    }
   ],
   "execution_count": 4
  },
  {
   "cell_type": "code",
   "execution_count": 18,
   "id": "ebc32a0e",
   "metadata": {},
   "outputs": [
    {
     "name": "stderr",
     "output_type": "stream",
     "text": [
      "Validating: 100%|██████████| 419/419 [3:45:20<00:00, 32.27s/batch]  "
     ]
    },
    {
     "name": "stdout",
     "output_type": "stream",
     "text": [
      "Validation Accuracy: 0.5894988066825776\n"
     ]
    },
    {
     "name": "stderr",
     "output_type": "stream",
     "text": [
      "\n"
     ]
    }
   ],
   "source": [
    "import torch\n",
    "from torch.utils.data import TensorDataset, DataLoader\n",
    "from transformers import ASTConfig, ASTForAudioClassification, ASTFeatureExtractor\n",
    "from tqdm import tqdm\n",
    "\n",
    "# Assuming 'dataset' and 'labels' are already loaded\n",
    "tensor_dataset = TensorDataset(dataset, labels)\n",
    "\n",
    "# DataLoader\n",
    "batch_size = 16\n",
    "data_loader = DataLoader(tensor_dataset, batch_size=batch_size, shuffle=False)\n",
    "\n",
    "# Feature Extractor\n",
    "feature_extractor = ASTFeatureExtractor.from_pretrained(\"MIT/ast-finetuned-audioset-10-10-0.4593\")\n",
    "\n",
    "# Load model and move to device\n",
    "model.to(device)\n",
    "model.eval()\n",
    "\n",
    "# Function to preprocess, perform inference, and calculate accuracy\n",
    "def validate_model(data_loader, model, device):\n",
    "    all_predictions = []\n",
    "    correct_predictions = 0\n",
    "    total_samples = 0\n",
    "\n",
    "    for inputs, labels in tqdm(data_loader, desc=\"Validating\", unit=\"batch\"):\n",
    "        # Convert waveform to log Mel spectrogram\n",
    "        inputs = feature_extractor(inputs.numpy(), return_tensors=\"pt\", sampling_rate=16000).input_values\n",
    "        inputs = inputs.to(device)\n",
    "        labels = labels.to(device)\n",
    "\n",
    "        with torch.no_grad():\n",
    "            outputs = model(inputs)\n",
    "            logits = outputs.logits\n",
    "            predictions = torch.argmax(logits, dim=-1)\n",
    "            all_predictions.extend(predictions.cpu().numpy())\n",
    "\n",
    "            # Calculate accuracy\n",
    "            correct_predictions += (predictions == labels).sum().item()\n",
    "            total_samples += labels.size(0)\n",
    "\n",
    "    accuracy = correct_predictions / total_samples\n",
    "    return all_predictions, accuracy\n",
    "\n",
    "# Run validation\n",
    "predictions, accuracy = validate_model(data_loader, model, device)\n",
    "print(\"Validation Accuracy:\", accuracy)\n"
   ]
  },
  {
   "cell_type": "markdown",
   "id": "16ed50ec",
   "metadata": {},
   "source": [
    "# Tu koniec"
   ]
  },
  {
   "cell_type": "code",
   "execution_count": 12,
   "id": "296e192dc83923b6",
   "metadata": {
    "ExecuteTime": {
     "end_time": "2024-04-28T16:21:17.508472Z",
     "start_time": "2024-04-28T16:21:17.437334Z"
    }
   },
   "outputs": [],
   "source": [
    "input_features = processor(\n",
    "    dataset.numpy()[1005:1010], sampling_rate=16000, return_tensors=\"pt\"\n",
    ").input_features.to(device)"
   ]
  },
  {
   "cell_type": "code",
   "execution_count": 13,
   "id": "94d77b4cfbbd4ae6",
   "metadata": {
    "ExecuteTime": {
     "end_time": "2024-04-28T16:21:20.101080Z",
     "start_time": "2024-04-28T16:21:18.193423Z"
    }
   },
   "outputs": [],
   "source": [
    "predicted_ids = model.generate(input_features)"
   ]
  },
  {
   "cell_type": "code",
   "execution_count": 14,
   "id": "8fff2192fc212cf2",
   "metadata": {
    "ExecuteTime": {
     "end_time": "2024-04-28T16:21:22.124778Z",
     "start_time": "2024-04-28T16:21:22.113773Z"
    }
   },
   "outputs": [
    {
     "data": {
      "text/plain": [
       "[' left', ' Left', ' Left.', ' Left.', ' Who That?']"
      ]
     },
     "execution_count": 14,
     "metadata": {},
     "output_type": "execute_result"
    }
   ],
   "source": [
    "transcription = processor.batch_decode(predicted_ids, skip_special_tokens=True)\n",
    "transcription"
   ]
  },
  {
   "cell_type": "code",
   "execution_count": 15,
   "id": "f0cc9315de3c3f8e",
   "metadata": {
    "ExecuteTime": {
     "end_time": "2024-04-28T16:21:34.291069Z",
     "start_time": "2024-04-28T16:21:34.283727Z"
    }
   },
   "outputs": [
    {
     "data": {
      "text/plain": [
       "['left', 'left', 'left', 'left', 'left']"
      ]
     },
     "execution_count": 15,
     "metadata": {},
     "output_type": "execute_result"
    }
   ],
   "source": [
    "[ALL_CLASSES[val] for val in labels[1005:1010].squeeze()]"
   ]
  },
  {
   "cell_type": "code",
   "execution_count": null,
   "id": "7c1fa7b270836416",
   "metadata": {},
   "outputs": [],
   "source": []
  }
 ],
 "metadata": {
  "kernelspec": {
   "display_name": "Python 3",
   "language": "python",
   "name": "python3"
  },
  "language_info": {
   "codemirror_mode": {
    "name": "ipython",
    "version": 3
   },
   "file_extension": ".py",
   "mimetype": "text/x-python",
   "name": "python",
   "nbconvert_exporter": "python",
   "pygments_lexer": "ipython3",
   "version": "3.10.13"
  }
 },
 "nbformat": 4,
 "nbformat_minor": 5
}
